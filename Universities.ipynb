{
 "cells": [
  {
   "cell_type": "code",
   "execution_count": 19,
   "id": "f696cae4",
   "metadata": {},
   "outputs": [],
   "source": [
    "from bs4 import BeautifulSoup\n",
    "import requests\n",
    "url = 'https://www.4icu.org/in/'\n",
    "page = requests.get(url)\n",
    "soup = BeautifulSoup(page.text)\n",
    "table = soup.find('table',class_=\"table table-hover\")\n",
    "columns = table.find('tr').find_all('th')\n",
    "head = [column_head.text.strip() for column_head in column]"
   ]
  },
  {
   "cell_type": "code",
   "execution_count": 20,
   "id": "8d5d45f5",
   "metadata": {},
   "outputs": [],
   "source": [
    "import pandas as pd\n",
    "df = pd.DataFrame([head])"
   ]
  },
  {
   "cell_type": "code",
   "execution_count": 21,
   "id": "f49eea93",
   "metadata": {},
   "outputs": [],
   "source": [
    "rows = table.find_all('tr')[1:]\n",
    "row_data = table.find_all('td')\n",
    "data = []\n",
    "for row in rows:\n",
    "    row_data = [cell.text.strip() for cell in row if cell.text.strip()]\n",
    "    if len(row_data) > 0:\n",
    "        data.append(row_data)\n"
   ]
  },
  {
   "cell_type": "code",
   "execution_count": 22,
   "id": "3c5fc21c",
   "metadata": {},
   "outputs": [
    {
     "name": "stdout",
     "output_type": "stream",
     "text": [
      "                   #Rank                                         University  \\\n",
      "0                      1              Indian Institute of Technology Bombay   \n",
      "1                      2              Indian Institute of Technology Madras   \n",
      "2                      3                                University of Delhi   \n",
      "3                      4              Indian Institute of Technology Kanpur   \n",
      "4                      5               Indian Institute of Technology Delhi   \n",
      "..                   ...                                                ...   \n",
      "886                  887                Shri Guru Ram Rai Education Mission   \n",
      "887                   Un                            Manav Rachna University   \n",
      "888                   Un  Manav Rachna International Institute of Resear...   \n",
      "889                   Un                          Sandip University, Sijoul   \n",
      "890  Legend: Un Unranked                                   + Add University   \n",
      "\n",
      "             Town  \n",
      "0          Mumbai  \n",
      "1         Chennai  \n",
      "2       New Delhi  \n",
      "3          Kanpur  \n",
      "4       New Delhi  \n",
      "..            ...  \n",
      "886  Dehradun ...  \n",
      "887     Faridabad  \n",
      "888     Faridabad  \n",
      "889        Sijoul  \n",
      "890          None  \n",
      "\n",
      "[891 rows x 3 columns]\n"
     ]
    }
   ],
   "source": [
    "df = pd.DataFrame(data, columns=head)\n",
    "print(df)"
   ]
  },
  {
   "cell_type": "code",
   "execution_count": 134,
   "id": "c3c181fa",
   "metadata": {},
   "outputs": [],
   "source": [
    "df.to_csv(r'/Users/shivanisrinivasan/Downloads/Projects/Universities.csv')"
   ]
  },
  {
   "cell_type": "code",
   "execution_count": null,
   "id": "41778918",
   "metadata": {},
   "outputs": [],
   "source": []
  },
  {
   "cell_type": "code",
   "execution_count": null,
   "id": "95e562aa",
   "metadata": {},
   "outputs": [],
   "source": []
  }
 ],
 "metadata": {
  "kernelspec": {
   "display_name": "Python 3 (ipykernel)",
   "language": "python",
   "name": "python3"
  },
  "language_info": {
   "codemirror_mode": {
    "name": "ipython",
    "version": 3
   },
   "file_extension": ".py",
   "mimetype": "text/x-python",
   "name": "python",
   "nbconvert_exporter": "python",
   "pygments_lexer": "ipython3",
   "version": "3.11.5"
  }
 },
 "nbformat": 4,
 "nbformat_minor": 5
}
